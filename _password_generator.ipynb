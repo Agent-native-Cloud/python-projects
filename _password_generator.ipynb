{
  "nbformat": 4,
  "nbformat_minor": 0,
  "metadata": {
    "colab": {
      "provenance": [],
      "authorship_tag": "ABX9TyN994/txv4sFXkv4dLVozQi",
      "include_colab_link": true
    },
    "kernelspec": {
      "name": "python3",
      "display_name": "Python 3"
    },
    "language_info": {
      "name": "python"
    }
  },
  "cells": [
    {
      "cell_type": "markdown",
      "metadata": {
        "id": "view-in-github",
        "colab_type": "text"
      },
      "source": [
        "<a href=\"https://colab.research.google.com/github/SARAMALI15792/python-projects/blob/main/_password_generator.ipynb\" target=\"_parent\"><img src=\"https://colab.research.google.com/assets/colab-badge.svg\" alt=\"Open In Colab\"/></a>"
      ]
    },
    {
      "cell_type": "code",
      "execution_count": null,
      "metadata": {
        "colab": {
          "base_uri": "https://localhost:8080/"
        },
        "id": "rzhcnGxehKaV",
        "outputId": "41f68750-d2ce-41d4-d251-6b0187cc0b63"
      },
      "outputs": [
        {
          "output_type": "stream",
          "name": "stdout",
          "text": [
            "\n",
            "==============================\n",
            " Password Manager Menu \n",
            "==============================\n",
            "1. Generate new password\n",
            "2. Check password strength\n",
            "3. Exit\n"
          ]
        }
      ],
      "source": [
        "import random\n",
        "\n",
        "class PasswordManager:\n",
        "    @staticmethod\n",
        "    def generate_password(length=8):\n",
        "        \"\"\"Generate random password using ASCII characters\"\"\"\n",
        "        try:\n",
        "            return ''.join(chr(random.randint(33, 126)) for _ in range(length))\n",
        "        except Exception as e:\n",
        "            return f\"Error generating password: {str(e)}\"\n",
        "\n",
        "    @staticmethod\n",
        "    def check_strength(password):\n",
        "        \"\"\"Check password strength and provide bilingual feedback\"\"\"\n",
        "        strength = {\n",
        "            'length': len(password) >= 8,\n",
        "            'uppercase': any(c.isupper() for c in password),\n",
        "            'lowercase': any(c.islower() for c in password),\n",
        "            'digit': any(c.isdigit() for c in password),\n",
        "            'special': any(not c.isalnum() for c in password)\n",
        "        }\n",
        "\n",
        "        # English feedback\n",
        "        en_feedback = [\n",
        "            (\"✓ Good length (8+ characters)\", \"× Too short (min 8 characters)\")[not strength['length']],\n",
        "            (\"✓ Contains uppercase\", \"× Needs uppercase letters\")[not strength['uppercase']],\n",
        "            (\"✓ Contains lowercase\", \"× Needs lowercase letters\")[not strength['lowercase']],\n",
        "            (\"✓ Contains numbers\", \"× Needs numbers\")[not strength['digit']],\n",
        "            (\"✓ Contains special chars\", \"× Needs special characters\")[not strength['special']]\n",
        "        ]\n",
        "\n",
        "        # Urdu feedback\n",
        "        ur_feedback = [\n",
        "            (\"✓ Achi lambai (8+ characters)\", \"× Chota password (kam az kam 8)\")[not strength['length']],\n",
        "            (\"✓ Bari letters hain\", \"× Bari letters add karo\")[not strength['uppercase']],\n",
        "            (\"✓ Choti letters hain\", \"× Choti letters add karo\")[not strength['lowercase']],\n",
        "            (\"✓ Numbers hain\", \"× Numbers add karo\")[not strength['digit']],\n",
        "            (\"✓ Special characters hain\", \"× Special characters add karo\")[not strength['special']]\n",
        "        ]\n",
        "\n",
        "        score = sum(strength.values())\n",
        "        return en_feedback, ur_feedback, score\n",
        "\n",
        "    @classmethod\n",
        "    def show_menu(cls):\n",
        "        \"\"\"Display main menu and handle user choices\"\"\"\n",
        "        while True:\n",
        "            print(\"\\n\" + \"=\"*30)\n",
        "            print(\" Password Manager Menu \")\n",
        "            print(\"=\"*30)\n",
        "            print(\"1. Generate new password\")\n",
        "            print(\"2. Check password strength\")\n",
        "            print(\"3. Exit\")\n",
        "\n",
        "            choice = input(\"\\nApna choice dalain (1/2/3): \")\n",
        "\n",
        "            if choice == '1':\n",
        "                try:\n",
        "                    length = int(input(\"Password ki lambai chahiye (default 8): \") or 8)\n",
        "                    password = cls.generate_password(length)\n",
        "                    print(f\"\\nYour new password: {password}\")\n",
        "                except ValueError:\n",
        "                    print(\"Ghalti: Sirf numbers dalain!\")\n",
        "\n",
        "            elif choice == '2':\n",
        "                password = input(\"Apna password dalain: \")\n",
        "                en, ur, score = cls.check_strength(password)\n",
        "\n",
        "                print(\"\\nEnglish Report:\")\n",
        "                print(f\"Strength Score: {score}/5\")\n",
        "                for item in en:\n",
        "                    print(f\" - {item}\")\n",
        "\n",
        "                print(\"\\nUrdu Report:\")\n",
        "                print(f\"Score: {score}/5\")\n",
        "                for item in ur:\n",
        "                    print(f\" - {item}\")\n",
        "\n",
        "            elif choice == '3':\n",
        "                print(\"Khuda Hafiz! Goodbye!\")\n",
        "                break\n",
        "\n",
        "            else:\n",
        "                print(\"Ghalt choice! Phir se try karein\")\n",
        "\n",
        "# Start the program\n",
        "if __name__ == \"__main__\":\n",
        "    PasswordManager.show_menu()"
      ]
    }
  ]
}