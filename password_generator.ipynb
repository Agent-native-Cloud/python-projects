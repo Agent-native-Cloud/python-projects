{
  "nbformat": 4,
  "nbformat_minor": 0,
  "metadata": {
    "colab": {
      "provenance": [],
      "authorship_tag": "ABX9TyPCz+GEqiTZDX1m0tkv2biO",
      "include_colab_link": true
    },
    "kernelspec": {
      "name": "python3",
      "display_name": "Python 3"
    },
    "language_info": {
      "name": "python"
    }
  },
  "cells": [
    {
      "cell_type": "markdown",
      "metadata": {
        "id": "view-in-github",
        "colab_type": "text"
      },
      "source": [
        "<a href=\"https://colab.research.google.com/github/SARAMALI15792/python-projects/blob/main/password_generator.ipynb\" target=\"_parent\"><img src=\"https://colab.research.google.com/assets/colab-badge.svg\" alt=\"Open In Colab\"/></a>"
      ]
    },
    {
      "cell_type": "code",
      "execution_count": 4,
      "metadata": {
        "colab": {
          "base_uri": "https://localhost:8080/",
          "height": 810
        },
        "id": "rzhcnGxehKaV",
        "outputId": "648a23fe-73f5-401a-ae3f-fccae2f2d876"
      },
      "outputs": [
        {
          "output_type": "stream",
          "name": "stdout",
          "text": [
            "  \n",
            "        ==============================\n",
            "            Password Manager Menu \n",
            "        ==============================  \n",
            "        \n",
            "        \n",
            "****Enter the length of the password (8-20) or 'q' to quit:***** 2\n",
            "Password length must be between 8 and 20 characters.\n",
            "  \n",
            "        ==============================\n",
            "            Password Manager Menu \n",
            "        ==============================  \n",
            "        \n",
            "        \n",
            "****Enter the length of the password (8-20) or 'q' to quit:***** 12\n",
            "Your password generated successfully: $#uEAw56xHPe\n",
            "↑↑↑ Copy this password and keep it safe! ↑↑↑\n",
            "--------------------------------------------\n",
            "  \n",
            "        ==============================\n",
            "            Password Manager Menu \n",
            "        ==============================  \n",
            "        \n",
            "        \n"
          ]
        },
        {
          "output_type": "error",
          "ename": "KeyboardInterrupt",
          "evalue": "Interrupted by user",
          "traceback": [
            "\u001b[0;31m---------------------------------------------------------------------------\u001b[0m",
            "\u001b[0;31mKeyboardInterrupt\u001b[0m                         Traceback (most recent call last)",
            "\u001b[0;32m<ipython-input-4-0681c6a9b8d0>\u001b[0m in \u001b[0;36m<cell line: 0>\u001b[0;34m()\u001b[0m\n\u001b[1;32m     29\u001b[0m \u001b[0;34m\u001b[0m\u001b[0m\n\u001b[1;32m     30\u001b[0m         \"\"\")\n\u001b[0;32m---> 31\u001b[0;31m         \u001b[0mn\u001b[0m \u001b[0;34m=\u001b[0m \u001b[0minput\u001b[0m\u001b[0;34m(\u001b[0m\u001b[0;34m\"****Enter the length of the password (8-20) or 'q' to quit:***** \"\u001b[0m\u001b[0;34m)\u001b[0m\u001b[0;34m\u001b[0m\u001b[0;34m\u001b[0m\u001b[0m\n\u001b[0m\u001b[1;32m     32\u001b[0m         \u001b[0;32mif\u001b[0m \u001b[0mn\u001b[0m\u001b[0;34m.\u001b[0m\u001b[0mlower\u001b[0m\u001b[0;34m(\u001b[0m\u001b[0;34m)\u001b[0m \u001b[0;34m==\u001b[0m \u001b[0;34m'q'\u001b[0m\u001b[0;34m:\u001b[0m\u001b[0;34m\u001b[0m\u001b[0;34m\u001b[0m\u001b[0m\n\u001b[1;32m     33\u001b[0m             \u001b[0mprint\u001b[0m\u001b[0;34m(\u001b[0m\u001b[0;34m\"Exiting...\"\u001b[0m\u001b[0;34m)\u001b[0m\u001b[0;34m\u001b[0m\u001b[0;34m\u001b[0m\u001b[0m\n",
            "\u001b[0;32m/usr/local/lib/python3.11/dist-packages/ipykernel/kernelbase.py\u001b[0m in \u001b[0;36mraw_input\u001b[0;34m(self, prompt)\u001b[0m\n\u001b[1;32m    849\u001b[0m                 \u001b[0;34m\"raw_input was called, but this frontend does not support input requests.\"\u001b[0m\u001b[0;34m\u001b[0m\u001b[0;34m\u001b[0m\u001b[0m\n\u001b[1;32m    850\u001b[0m             )\n\u001b[0;32m--> 851\u001b[0;31m         return self._input_request(str(prompt),\n\u001b[0m\u001b[1;32m    852\u001b[0m             \u001b[0mself\u001b[0m\u001b[0;34m.\u001b[0m\u001b[0m_parent_ident\u001b[0m\u001b[0;34m,\u001b[0m\u001b[0;34m\u001b[0m\u001b[0;34m\u001b[0m\u001b[0m\n\u001b[1;32m    853\u001b[0m             \u001b[0mself\u001b[0m\u001b[0;34m.\u001b[0m\u001b[0m_parent_header\u001b[0m\u001b[0;34m,\u001b[0m\u001b[0;34m\u001b[0m\u001b[0;34m\u001b[0m\u001b[0m\n",
            "\u001b[0;32m/usr/local/lib/python3.11/dist-packages/ipykernel/kernelbase.py\u001b[0m in \u001b[0;36m_input_request\u001b[0;34m(self, prompt, ident, parent, password)\u001b[0m\n\u001b[1;32m    893\u001b[0m             \u001b[0;32mexcept\u001b[0m \u001b[0mKeyboardInterrupt\u001b[0m\u001b[0;34m:\u001b[0m\u001b[0;34m\u001b[0m\u001b[0;34m\u001b[0m\u001b[0m\n\u001b[1;32m    894\u001b[0m                 \u001b[0;31m# re-raise KeyboardInterrupt, to truncate traceback\u001b[0m\u001b[0;34m\u001b[0m\u001b[0;34m\u001b[0m\u001b[0m\n\u001b[0;32m--> 895\u001b[0;31m                 \u001b[0;32mraise\u001b[0m \u001b[0mKeyboardInterrupt\u001b[0m\u001b[0;34m(\u001b[0m\u001b[0;34m\"Interrupted by user\"\u001b[0m\u001b[0;34m)\u001b[0m \u001b[0;32mfrom\u001b[0m \u001b[0;32mNone\u001b[0m\u001b[0;34m\u001b[0m\u001b[0;34m\u001b[0m\u001b[0m\n\u001b[0m\u001b[1;32m    896\u001b[0m             \u001b[0;32mexcept\u001b[0m \u001b[0mException\u001b[0m \u001b[0;32mas\u001b[0m \u001b[0me\u001b[0m\u001b[0;34m:\u001b[0m\u001b[0;34m\u001b[0m\u001b[0;34m\u001b[0m\u001b[0m\n\u001b[1;32m    897\u001b[0m                 \u001b[0mself\u001b[0m\u001b[0;34m.\u001b[0m\u001b[0mlog\u001b[0m\u001b[0;34m.\u001b[0m\u001b[0mwarning\u001b[0m\u001b[0;34m(\u001b[0m\u001b[0;34m\"Invalid Message:\"\u001b[0m\u001b[0;34m,\u001b[0m \u001b[0mexc_info\u001b[0m\u001b[0;34m=\u001b[0m\u001b[0;32mTrue\u001b[0m\u001b[0;34m)\u001b[0m\u001b[0;34m\u001b[0m\u001b[0;34m\u001b[0m\u001b[0m\n",
            "\u001b[0;31mKeyboardInterrupt\u001b[0m: Interrupted by user"
          ]
        }
      ],
      "source": [
        "import random\n",
        "\n",
        "def password(length: int) -> str:\n",
        "    try:\n",
        "        # Correct character set with both lowercase and uppercase letters, digits, and symbols\n",
        "        lowercase = \"abcdefghijklmnopqrstuvwxyz\"\n",
        "        uppercase = lowercase.upper()\n",
        "        digits = \"0123456789\"\n",
        "        symbols = \"!@#$%^&*~\"\n",
        "        chars = lowercase + uppercase + digits + symbols\n",
        "\n",
        "        if length < 8:\n",
        "            raise ValueError(\"Password length must be at least 8 characters.\")\n",
        "\n",
        "        # Generate password using random.choices for better efficiency\n",
        "        password = ''.join(random.choices(chars, k=length))\n",
        "        return password\n",
        "\n",
        "    except Exception as e:\n",
        "        print(f\"An error occurred: {e}\")\n",
        "        return \"\"\n",
        "\n",
        "try:\n",
        "    while True:\n",
        "        print(\"\"\"\n",
        "        ==============================\n",
        "            Password Manager Menu\n",
        "        ==============================\n",
        "\n",
        "        \"\"\")\n",
        "        n = input(\"****Enter the length of the password (8-20) or 'q' to quit:***** \")\n",
        "        if n.lower() == 'q':\n",
        "            print(\"Exiting...\")\n",
        "            break\n",
        "\n",
        "        try:\n",
        "            length = int(n)\n",
        "            if 8 <= length <= 20:\n",
        "                generated_password = password(length)\n",
        "                if generated_password:\n",
        "                    print(\"Your password generated successfully:\", generated_password)\n",
        "                    print(\"↑↑↑ Copy this password and keep it safe! ↑↑↑\")\n",
        "                    print(\"--------------------------------------------\")\n",
        "            else:\n",
        "                print(\"Password length must be between 8 and 20 characters.\")\n",
        "        except ValueError:\n",
        "            print(\"Please enter a valid number between 8 and 20.\")\n",
        "\n",
        "except Exception as e:\n",
        "    print(\"An unexpected error occurred. Please try again.\")"
      ]
    }
  ]
}