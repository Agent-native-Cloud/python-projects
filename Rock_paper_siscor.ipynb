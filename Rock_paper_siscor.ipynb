{
  "nbformat": 4,
  "nbformat_minor": 0,
  "metadata": {
    "colab": {
      "provenance": [],
      "authorship_tag": "ABX9TyOQN84dJ8LnL1y03SN0kyjQ",
      "include_colab_link": true
    },
    "kernelspec": {
      "name": "python3",
      "display_name": "Python 3"
    },
    "language_info": {
      "name": "python"
    }
  },
  "cells": [
    {
      "cell_type": "markdown",
      "metadata": {
        "id": "view-in-github",
        "colab_type": "text"
      },
      "source": [
        "<a href=\"https://colab.research.google.com/github/SARAMALI15792/python-projects/blob/main/Rock_paper_siscor.ipynb\" target=\"_parent\"><img src=\"https://colab.research.google.com/assets/colab-badge.svg\" alt=\"Open In Colab\"/></a>"
      ]
    },
    {
      "cell_type": "code",
      "execution_count": 36,
      "metadata": {
        "colab": {
          "base_uri": "https://localhost:8080/"
        },
        "id": "0k4Z9dGdnOtk",
        "outputId": "9a5c357d-5eb2-401d-ed6b-8eefc907bf62"
      },
      "outputs": [
        {
          "output_type": "stream",
          "name": "stdout",
          "text": [
            "******************************************************************************************\n",
            "Welcome to Rock Paper Scissors Game - Developed by Sarim Ali (PIAIC Student Q1)\n",
            "******************************************************************************************\n",
            "\n",
            "Round: 1\n",
            "Options: Rock (R), Paper (P), Scissors (S)\n",
            "What will you select? (R/P/S or full word) r\n",
            "Your choice: rock\n",
            "Computer's choice: rock\n",
            "It's a tie!\n",
            "Do you want to continue? (Y/N): n\n",
            "Thanks for playing! Goodbye!\n"
          ]
        }
      ],
      "source": [
        "import random\n",
        "\n",
        "\n",
        "\n",
        "def rock_paper_scissors():\n",
        "    \"\"\"\n",
        "    Args:\n",
        "    Game:Rock,Paper,Sisscor\n",
        "    First it will ask from user to get input what user want to chose in order to play with computer\n",
        "    and then it will comparing it according to our logics in code\n",
        "    afterthat , it will gives us the result\n",
        "    moreover it will also display the rounds how many rounds user has play according to the get the user control either  user wan to exit or not\n",
        "\n",
        "    Return :\n",
        "    string in  form of result of game excepted\n",
        "\n",
        "    \"\"\"\n",
        "    print(\"*\" * 90)\n",
        "    print(\"Welcome to Rock Paper Scissors Game - Developed by Sarim Ali (PIAIC Student Q1)\")\n",
        "    print(\"*\" * 90)\n",
        "\n",
        "\n",
        "    round_num = 1\n",
        "    choices = {\"r\": \"rock\", \"p\": \"paper\", \"s\": \"scissors\"}\n",
        "\n",
        "    while True:\n",
        "        print(f\"\\nRound: {round_num}\")\n",
        "        print(\"Options: Rock (R), Paper (P), Scissors (S)\")\n",
        "\n",
        "        user_input = input(\"What will you select? (R/P/S or full word) \").strip().lower()\n",
        "\n",
        "        # Convert shorthand input to full word\n",
        "        user_choice = choices.get(user_input, user_input)\n",
        "\n",
        "        if user_choice not in choices.values():\n",
        "            print(\"Invalid choice! Please select Rock (R), Paper (P), or Scissors (S).\")\n",
        "            continue\n",
        "\n",
        "        computer_choice = random.choice(list(choices.values()))\n",
        "        print(f\"Your choice: {user_choice}\")\n",
        "        print(f\"Computer's choice: {computer_choice}\")\n",
        "\n",
        "        # Determine winner\n",
        "        if user_choice == computer_choice:\n",
        "            print(\"It's a tie!\")\n",
        "        elif (user_choice == \"rock\" and computer_choice == \"scissors\") or \\\n",
        "             (user_choice == \"paper\" and computer_choice == \"rock\") or \\\n",
        "             (user_choice == \"scissors\" and computer_choice == \"paper\"):\n",
        "            print(\"You win!\")\n",
        "        else:\n",
        "            print(\"You lose!\")\n",
        "\n",
        "        # Ask user if they want to play again\n",
        "        user_continue = input(\"Do you want to continue? (Y/N): \").strip().lower()\n",
        "        if user_continue == \"n\":\n",
        "            print(\"Thanks for playing! Goodbye!\")\n",
        "            break\n",
        "\n",
        "        round_num += 1\n",
        "\n",
        "rock_paper_scissors()\n"
      ]
    }
  ]
}