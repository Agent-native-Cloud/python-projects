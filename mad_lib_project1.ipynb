{
  "nbformat": 4,
  "nbformat_minor": 0,
  "metadata": {
    "colab": {
      "provenance": [],
      "authorship_tag": "ABX9TyPWJRlLMYVMQlN2+P/o9q/5",
      "include_colab_link": true
    },
    "kernelspec": {
      "name": "python3",
      "display_name": "Python 3"
    },
    "language_info": {
      "name": "python"
    }
  },
  "cells": [
    {
      "cell_type": "markdown",
      "metadata": {
        "id": "view-in-github",
        "colab_type": "text"
      },
      "source": [
        "<a href=\"https://colab.research.google.com/github/SARAMALI15792/python-projects/blob/main/mad_lib_project1.ipynb\" target=\"_parent\"><img src=\"https://colab.research.google.com/assets/colab-badge.svg\" alt=\"Open In Colab\"/></a>"
      ]
    },
    {
      "cell_type": "code",
      "execution_count": 59,
      "metadata": {
        "colab": {
          "base_uri": "https://localhost:8080/",
          "height": 481
        },
        "id": "eS6Xz9hFUYC5",
        "outputId": "770dbafb-7de6-430e-8d69-fdf4c14e256d"
      },
      "outputs": [
        {
          "output_type": "stream",
          "name": "stdout",
          "text": [
            "******Welcome to mad_lib game******** -----Developed by Saram Ali (PIAIC Student Q1)\n",
            "\n",
            "Round 1\n",
            "--------------------\n",
            "1 --> Today we are going to [place] to explore nature with different [noun].\n",
            "2 --> She sells sea shells at [place].\n",
            "3 --> water {noun} connect to the {place}\n",
            "4 --> pakistan {place} is famous for {noun}\n"
          ]
        },
        {
          "output_type": "error",
          "ename": "KeyboardInterrupt",
          "evalue": "Interrupted by user",
          "traceback": [
            "\u001b[0;31m---------------------------------------------------------------------------\u001b[0m",
            "\u001b[0;31mKeyboardInterrupt\u001b[0m                         Traceback (most recent call last)",
            "\u001b[0;32m<ipython-input-59-32c206844f21>\u001b[0m in \u001b[0;36m<cell line: 0>\u001b[0;34m()\u001b[0m\n\u001b[1;32m     94\u001b[0m \u001b[0;34m\u001b[0m\u001b[0m\n\u001b[1;32m     95\u001b[0m \u001b[0;31m# Run the function\u001b[0m\u001b[0;34m\u001b[0m\u001b[0;34m\u001b[0m\u001b[0m\n\u001b[0;32m---> 96\u001b[0;31m \u001b[0mMad_lib\u001b[0m\u001b[0;34m(\u001b[0m\u001b[0;34m)\u001b[0m\u001b[0;34m\u001b[0m\u001b[0;34m\u001b[0m\u001b[0m\n\u001b[0m",
            "\u001b[0;32m<ipython-input-59-32c206844f21>\u001b[0m in \u001b[0;36mMad_lib\u001b[0;34m()\u001b[0m\n\u001b[1;32m     33\u001b[0m         \u001b[0;32mtry\u001b[0m\u001b[0;34m:\u001b[0m\u001b[0;34m\u001b[0m\u001b[0;34m\u001b[0m\u001b[0m\n\u001b[1;32m     34\u001b[0m             \u001b[0;31m# Get user choice\u001b[0m\u001b[0;34m\u001b[0m\u001b[0;34m\u001b[0m\u001b[0m\n\u001b[0;32m---> 35\u001b[0;31m             \u001b[0mchoice\u001b[0m \u001b[0;34m=\u001b[0m \u001b[0minput\u001b[0m\u001b[0;34m(\u001b[0m\u001b[0;34m\"Enter the number of the text you want to generate (1 -4): \"\u001b[0m\u001b[0;34m)\u001b[0m\u001b[0;34m\u001b[0m\u001b[0;34m\u001b[0m\u001b[0m\n\u001b[0m\u001b[1;32m     36\u001b[0m \u001b[0;34m\u001b[0m\u001b[0m\n\u001b[1;32m     37\u001b[0m             \u001b[0;32mif\u001b[0m \u001b[0mchoice\u001b[0m \u001b[0;32mnot\u001b[0m \u001b[0;32min\u001b[0m \u001b[0;34m[\u001b[0m\u001b[0;34m\"1\"\u001b[0m\u001b[0;34m,\u001b[0m \u001b[0;34m\"2\"\u001b[0m\u001b[0;34m,\u001b[0m\u001b[0;34m\"3\"\u001b[0m\u001b[0;34m,\u001b[0m\u001b[0;34m\"4\"\u001b[0m\u001b[0;34m]\u001b[0m\u001b[0;34m:\u001b[0m\u001b[0;34m\u001b[0m\u001b[0;34m\u001b[0m\u001b[0m\n",
            "\u001b[0;32m/usr/local/lib/python3.11/dist-packages/ipykernel/kernelbase.py\u001b[0m in \u001b[0;36mraw_input\u001b[0;34m(self, prompt)\u001b[0m\n\u001b[1;32m   1175\u001b[0m                 \u001b[0;34m\"raw_input was called, but this frontend does not support input requests.\"\u001b[0m\u001b[0;34m\u001b[0m\u001b[0;34m\u001b[0m\u001b[0m\n\u001b[1;32m   1176\u001b[0m             )\n\u001b[0;32m-> 1177\u001b[0;31m         return self._input_request(\n\u001b[0m\u001b[1;32m   1178\u001b[0m             \u001b[0mstr\u001b[0m\u001b[0;34m(\u001b[0m\u001b[0mprompt\u001b[0m\u001b[0;34m)\u001b[0m\u001b[0;34m,\u001b[0m\u001b[0;34m\u001b[0m\u001b[0;34m\u001b[0m\u001b[0m\n\u001b[1;32m   1179\u001b[0m             \u001b[0mself\u001b[0m\u001b[0;34m.\u001b[0m\u001b[0m_parent_ident\u001b[0m\u001b[0;34m[\u001b[0m\u001b[0;34m\"shell\"\u001b[0m\u001b[0;34m]\u001b[0m\u001b[0;34m,\u001b[0m\u001b[0;34m\u001b[0m\u001b[0;34m\u001b[0m\u001b[0m\n",
            "\u001b[0;32m/usr/local/lib/python3.11/dist-packages/ipykernel/kernelbase.py\u001b[0m in \u001b[0;36m_input_request\u001b[0;34m(self, prompt, ident, parent, password)\u001b[0m\n\u001b[1;32m   1217\u001b[0m             \u001b[0;32mexcept\u001b[0m \u001b[0mKeyboardInterrupt\u001b[0m\u001b[0;34m:\u001b[0m\u001b[0;34m\u001b[0m\u001b[0;34m\u001b[0m\u001b[0m\n\u001b[1;32m   1218\u001b[0m                 \u001b[0;31m# re-raise KeyboardInterrupt, to truncate traceback\u001b[0m\u001b[0;34m\u001b[0m\u001b[0;34m\u001b[0m\u001b[0m\n\u001b[0;32m-> 1219\u001b[0;31m                 \u001b[0;32mraise\u001b[0m \u001b[0mKeyboardInterrupt\u001b[0m\u001b[0;34m(\u001b[0m\u001b[0;34m\"Interrupted by user\"\u001b[0m\u001b[0;34m)\u001b[0m \u001b[0;32mfrom\u001b[0m \u001b[0;32mNone\u001b[0m\u001b[0;34m\u001b[0m\u001b[0;34m\u001b[0m\u001b[0m\n\u001b[0m\u001b[1;32m   1220\u001b[0m             \u001b[0;32mexcept\u001b[0m \u001b[0mException\u001b[0m\u001b[0;34m:\u001b[0m\u001b[0;34m\u001b[0m\u001b[0;34m\u001b[0m\u001b[0m\n\u001b[1;32m   1221\u001b[0m                 \u001b[0mself\u001b[0m\u001b[0;34m.\u001b[0m\u001b[0mlog\u001b[0m\u001b[0;34m.\u001b[0m\u001b[0mwarning\u001b[0m\u001b[0;34m(\u001b[0m\u001b[0;34m\"Invalid Message:\"\u001b[0m\u001b[0;34m,\u001b[0m \u001b[0mexc_info\u001b[0m\u001b[0;34m=\u001b[0m\u001b[0;32mTrue\u001b[0m\u001b[0;34m)\u001b[0m\u001b[0;34m\u001b[0m\u001b[0;34m\u001b[0m\u001b[0m\n",
            "\u001b[0;31mKeyboardInterrupt\u001b[0m: Interrupted by user"
          ]
        }
      ],
      "source": [
        "def Mad_lib():\n",
        "    \"\"\"\n",
        "    Args:\n",
        "    This function displays a sentence completion game.\n",
        "    - The user aslo given an round to track the how many times the user played the game.(keep track the data)\n",
        "    - The user chooses a sentence template.\n",
        "    - They provide a place and a noun (if required).\n",
        "    - Input validation ensures only string values are accepted.\n",
        "    - Exceptions handle invalid input gracefully.\n",
        "\n",
        "    Returns:\n",
        "    None\n",
        "    \"\"\"\n",
        "    print(\"******Welcome to mad_lib game******** -----Developed by Saram Ali (PIAIC Student Q1)\")\n",
        "\n",
        "    texts = [\n",
        "        \"Today we are going to [place] to explore nature with different [noun].\",\n",
        "        \"She sells sea shells at [place].\",\n",
        "        \"water {noun} connect to the {place}\",\n",
        "        \"pakistan {place} is famous for {noun}\"\n",
        "    ]\n",
        "\n",
        "    round_num = 1  # Start round count from 1\n",
        "\n",
        "    while True:\n",
        "        print(f\"\\nRound {round_num}\")\n",
        "        print(\"-\" * 20)\n",
        "\n",
        "        # Display sentence options\n",
        "        for i, text in enumerate(texts, 1):\n",
        "            print(f\"{i} --> {text}\")\n",
        "\n",
        "        try:\n",
        "            # Get user choice\n",
        "            choice = input(\"Enter the number of the text you want to generate (1 -4): \")\n",
        "\n",
        "            if choice not in [\"1\", \"2\",\"3\",\"4\"]:\n",
        "                raise ValueError(\"Invalid choice! Please enter 1-4.\")\n",
        "\n",
        "            # Taking input for 'place'\n",
        "            place = input(\"Enter a place: \")\n",
        "            if not place.isalpha():  # Ensure input contains only letters\n",
        "                raise TypeError(\"Invalid input! Please enter a valid place name (letters only).\")\n",
        "\n",
        "            if choice == \"1\":\n",
        "                noun = input(\"Enter a noun: \")\n",
        "                if not noun.isalpha():\n",
        "                    raise TypeError(\"Invalid input! Please enter a valid noun (letters only).\")\n",
        "\n",
        "                print(\"\\nGenerated Sentence:\")\n",
        "                print(texts[0].replace(\"[place]\", place).replace(\"[noun]\", noun))\n",
        "\n",
        "            elif choice == \"2\":\n",
        "                print(\"\\nGenerated Sentence:\")\n",
        "                print(texts[1].replace(\"[place]\", place))\n",
        "\n",
        "            elif choice == \"3\":\n",
        "                noun = input(\"Enter a noun: \")\n",
        "                if not noun.isalpha():\n",
        "                    raise TypeError(\"Invalid input! Please enter a valid noun (letters only).\")\n",
        "\n",
        "                print(\"\\nGenerated Sentence:\")\n",
        "                print(texts[2].replace(\"{noun}\", noun).replace(\"{place}\", place))\n",
        "\n",
        "            elif choice == \"4\":\n",
        "                noun = input(\"Enter a noun: \")\n",
        "                if not noun.isalpha():\n",
        "                    raise TypeError(\"Invalid input! Please enter a valid noun (letters only).\")\n",
        "\n",
        "                print(\"\\nGenerated Sentence:\")\n",
        "                print(texts[3].replace(\"{noun}\", noun).replace(\"{place}\", place))\n",
        "\n",
        "\n",
        "\n",
        "\n",
        "\n",
        "\n",
        "        except ValueError as e:\n",
        "            print(f\"❌ Error: {e}\")\n",
        "\n",
        "        except TypeError as e:\n",
        "            print(f\"❌ Error: {e}\")\n",
        "\n",
        "        except Exception as e:\n",
        "            print(f\"❌ An unexpected error occurred: {e}\")\n",
        "\n",
        "        # Ask if the user wants to play again\n",
        "        play_again = input(\"\\nDo you want to play another round? (yes/no): \").strip().lower()\n",
        "        if play_again not in [\"yes\", \"y\"]:\n",
        "            print(\"Thanks for playing! 🎉\")\n",
        "            break  # Exit the loop if user doesn't want to continue\n",
        "\n",
        "        round_num += 1  # Increment round number\n",
        "\n",
        "# Run the function\n",
        "Mad_lib()\n"
      ]
    }
  ]
}